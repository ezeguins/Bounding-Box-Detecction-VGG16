{
  "nbformat": 4,
  "nbformat_minor": 0,
  "metadata": {
    "colab": {
      "name": "CV2_filters_ts.ipynb",
      "provenance": [],
      "collapsed_sections": []
    },
    "kernelspec": {
      "name": "python3",
      "display_name": "Python 3"
    },
    "language_info": {
      "name": "python"
    }
  },
  "cells": [
    {
      "cell_type": "markdown",
      "source": [
        "# PREPROCESSING DATASET: OpenCV FILTERS TO IMPROVE FILES\n",
        "- convert to grayscale\n",
        "- noise removal\n",
        "- thresolding\n",
        "- dilation\n",
        "- erosion\n",
        "- canny edge detection\n",
        "- skew correction"
      ],
      "metadata": {
        "id": "vbuQMkJOjYbC"
      }
    },
    {
      "cell_type": "code",
      "execution_count": null,
      "metadata": {
        "id": "jA4aE9Yvcufu"
      },
      "outputs": [],
      "source": [
        "import cv2\n",
        "import numpy as np\n",
        "import matplotlib.pyplot as plt\n",
        "import matplotlib.image as mpimg"
      ]
    },
    {
      "cell_type": "code",
      "source": [
        "# IMAGES PRE-PROCESSING\n",
        "\n",
        "# get grayscale image\n",
        "def get_grayscale(image):\n",
        "    return cv2.cvtColor(image, cv2.COLOR_BGR2GRAY)\n",
        "\n",
        "# noise removal\n",
        "def remove_noise(image):\n",
        "    return cv2.medianBlur(image,5)\n",
        "\n",
        "#thresholding\n",
        "def thresholding(image):\n",
        "    # threshold the image, setting all foreground pixels to\n",
        "    # 255 and all background pixels to 0\n",
        "    return cv2.threshold(image, 0, 255, cv2.THRESH_BINARY | cv2.THRESH_OTSU)[1]\n",
        "\n",
        "#dilation\n",
        "def dilate(image):\n",
        "    kernel = np.ones((5,5),np.uint8)\n",
        "    return cv2.dilate(image, kernel, iterations = 1)\n",
        "\n",
        "#erosion\n",
        "def erode(image):\n",
        "    kernel = np.ones((5,5),np.uint8)\n",
        "    return cv2.erode(image, kernel, iterations = 1)\n",
        "\n",
        "#opening - erosion followed by dilation\n",
        "def opening(image):\n",
        "    kernel = np.ones((5,5),np.uint8)\n",
        "    return cv2.morphologyEx(image, cv2.MORPH_OPEN, kernel)\n",
        "\n",
        "#canny edge detection\n",
        "def canny(image):\n",
        "    return cv2.Canny(image, 100, 200)\n",
        "\n",
        "#skew correction\n",
        "def deskew(image):\n",
        "    gray = cv2.cvtColor(image, cv2.COLOR_BGR2GRAY)\n",
        "    gray = cv2.bitwise_not(gray)\n",
        "    thresh = cv2.threshold(gray, 0, 255,\n",
        "        cv2.THRESH_BINARY | cv2.THRESH_OTSU)[1]\n",
        "    coords = np.column_stack(np.where(thresh > 0))\n",
        "    angle = cv2.minAreaRect(coords)[-1]\n",
        "    if angle < -45:\n",
        "        angle = -(90 + angle)\n",
        "    else:\n",
        "        angle = -angle\n",
        "    (h, w) = image.shape[:2]\n",
        "    center = (w // 2, h // 2)\n",
        "    print('angulo: ', angle)\n",
        "    M = cv2.getRotationMatrix2D(center, angle, 1.0)\n",
        "    rotated = cv2.warpAffine(image, M, (w, h),\n",
        "        flags=cv2.INTER_CUBIC, borderMode=cv2.BORDER_REPLICATE)    \n",
        "    return rotated\n",
        " "
      ],
      "metadata": {
        "id": "lqA7YugTEzMw"
      },
      "execution_count": null,
      "outputs": []
    },
    {
      "cell_type": "code",
      "source": [
        "# FILTER TEST\n",
        "\n",
        "imagen = Image.open(zipimg.open(zipimg.namelist()[0]))\n",
        "plt.figure(figsize=(100,100))\n",
        "imgplot = plt.imshow(imagen)\n",
        "\n",
        "plt.show()\n"
      ],
      "metadata": {
        "id": "Bo7-byenIebi"
      },
      "execution_count": null,
      "outputs": []
    },
    {
      "cell_type": "code",
      "source": [
        "# REPLACE THE FILE TO TEST\n",
        "\n",
        "file_path = '/content/Estatuto-1.pdf-0.png'\n",
        "\n",
        "from google.colab.patches import cv2_imshow\n",
        "imagencv2 = cv2.imread(file_path)\n",
        "imagencv2 = cv2.cvtColor(imagencv2, cv2.COLOR_RGB2GRAY)\n",
        "imagencv2 = remove_noise(imagencv2)\n",
        "print(imagencv2.shape)\n",
        "cv2_imshow(imagencv2)\n",
        "\n",
        "#gray = get_grayscale(imagencv2)\n",
        "#fig = plt.figure()\n",
        "#fig.set_size_inches(np.array(fig.get_size_inches())\n",
        "#plt.imshow(imagencv2)\n",
        "#plt.show()\n"
      ],
      "metadata": {
        "id": "kALDLfHrJ7ki"
      },
      "execution_count": null,
      "outputs": []
    }
  ]
}