{
  "nbformat": 4,
  "nbformat_minor": 0,
  "metadata": {
    "colab": {
      "name": "predict_txt_ts.ipynb",
      "provenance": [],
      "collapsed_sections": [],
      "authorship_tag": "ABX9TyPKl2SSE6vKi0PkRe8GPJm2",
      "include_colab_link": true
    },
    "kernelspec": {
      "name": "python3",
      "display_name": "Python 3"
    },
    "language_info": {
      "name": "python"
    }
  },
  "cells": [
    {
      "cell_type": "markdown",
      "metadata": {
        "id": "view-in-github",
        "colab_type": "text"
      },
      "source": [
        "<a href=\"https://colab.research.google.com/github/ezeguins/Bounding-Box-Detecction-VGG16/blob/main/predict_txt_ts.ipynb\" target=\"_parent\"><img src=\"https://colab.research.google.com/assets/colab-badge.svg\" alt=\"Open In Colab\"/></a>"
      ]
    },
    {
      "cell_type": "markdown",
      "source": [
        "BOUNDING BOX MODEL PREDICTION FROM .TXT FILE CONTAINING TEST IMAGES FILENAMES GENERATED IN THE \"MODEL_TRAINING.TS\" FILE"
      ],
      "metadata": {
        "id": "2z7thlqyv2jm"
      }
    },
    {
      "cell_type": "code",
      "execution_count": null,
      "metadata": {
        "colab": {
          "base_uri": "https://localhost:8080/"
        },
        "id": "I0QKnoA7EU41",
        "outputId": "e25a44f5-e828-4e04-d703-8296683e8284"
      },
      "outputs": [
        {
          "output_type": "stream",
          "name": "stdout",
          "text": [
            "Mounted at /content/gdrive\n"
          ]
        }
      ],
      "source": [
        "import os\n",
        "from google.colab import drive\n",
        "\n",
        "drive.mount('/content/gdrive')"
      ]
    },
    {
      "cell_type": "code",
      "source": [
        "version = 19\n",
        "detector = 'detector' + str(version) + '.h5'\n",
        "plot = 'plot' + str(version) + '.png'\n",
        "test_images = 'test_images' + str(version) + '.txt'\n",
        "\n",
        "BASE_PATH = \"/content/gdrive/MyDrive/VGG16/dataset\"\n",
        "IMAGES_PATH = os.path.sep.join([BASE_PATH, \"images\"])\n",
        "ANNOTS_PATH = os.path.sep.join([BASE_PATH, \"etiquetas_export-data-60_solobloques.csv\"])\n",
        "\n",
        "# define the path to the base output directory\n",
        "BASE_OUTPUT = \"/content/gdrive/MyDrive/VGG16/output\"\n",
        "# define the path to the output serialized model, model training plot,\n",
        "# and testing image filenames\n",
        "MODEL_PATH = os.path.sep.join([BASE_OUTPUT, detector])\n",
        "PLOT_PATH = os.path.sep.join([BASE_OUTPUT, plot])\n",
        "TEST_FILENAMES = os.path.sep.join([BASE_OUTPUT, test_images])"
      ],
      "metadata": {
        "id": "e1-ShxWKEfNk"
      },
      "execution_count": null,
      "outputs": []
    },
    {
      "cell_type": "code",
      "source": [
        "from tensorflow.keras.preprocessing.image import img_to_array\n",
        "from tensorflow.keras.preprocessing.image import load_img\n",
        "from tensorflow.keras.models import load_model\n",
        "import numpy as np\n",
        "import mimetypes\n",
        "\n",
        "import imutils\n",
        "import cv2\n",
        "import os"
      ],
      "metadata": {
        "id": "mSARiOizEmp3"
      },
      "execution_count": null,
      "outputs": []
    },
    {
      "cell_type": "code",
      "source": [
        "outfile = \"/content/gdrive/MyDrive/VGG16/dataset/datos_full.npz\"\n",
        "npzfile = np.load(outfile)\n",
        "data1 = npzfile['arr_0']\n",
        "targets1 = npzfile['arr_1']\n",
        "filenames1 = npzfile['arr_2']"
      ],
      "metadata": {
        "id": "gUqXSC9QOOpU"
      },
      "execution_count": null,
      "outputs": []
    },
    {
      "cell_type": "code",
      "source": [
        "args = {\"input\": TEST_FILENAMES}\n",
        "filetype = mimetypes.guess_type(args[\"input\"])[0]\n",
        "imagePaths = [args[\"input\"]]\n",
        "imagePaths"
      ],
      "metadata": {
        "colab": {
          "base_uri": "https://localhost:8080/"
        },
        "id": "HW07eYaYLxxw",
        "outputId": "c49da6b4-25e2-45c5-ed3f-4d3063b3cce7"
      },
      "execution_count": null,
      "outputs": [
        {
          "output_type": "execute_result",
          "data": {
            "text/plain": [
              "['/content/gdrive/MyDrive/VGG16/output/test_images19.txt']"
            ]
          },
          "metadata": {},
          "execution_count": 5
        }
      ]
    },
    {
      "cell_type": "code",
      "source": [
        "# determine the input file type, but assume that we're working with\n",
        "# single input image\n",
        "filenames = open(args[\"input\"]).read().strip().split(\"\\n\")\n",
        "fn_index = list(range(0,len(filenames),1))\n",
        "print(type(fn_index))\n",
        "\n",
        "# if the file type is a text file, then we need to process *multiple*\n",
        "# images\n",
        "if \"text/plain\" == filetype:\n",
        "\t# load the filenames in our testing file and initialize our list\n",
        "\t# of image paths\n",
        "\tfilenames = open(args[\"input\"]).read().strip().split(\"\\n\")\n",
        "\n",
        "\t# loop over the filenames\n",
        "\tfor index, file in enumerate(filenames):\n",
        "\t\tfor idx, f in enumerate(filenames1):\n",
        "\t\t\tif file == f:\n",
        "\t\t\t\tfn_index[index] = idx \n",
        "print(len(fn_index))\n",
        "\n",
        "\n"
      ],
      "metadata": {
        "id": "fe6lh2ssYp3O",
        "colab": {
          "base_uri": "https://localhost:8080/"
        },
        "outputId": "054ae594-58b1-45e5-e446-f25a6baeec20"
      },
      "execution_count": null,
      "outputs": [
        {
          "output_type": "stream",
          "name": "stdout",
          "text": [
            "<class 'list'>\n",
            "172\n"
          ]
        }
      ]
    },
    {
      "cell_type": "code",
      "source": [
        "from google.colab.patches import cv2_imshow"
      ],
      "metadata": {
        "id": "07esCys_ftnZ"
      },
      "execution_count": null,
      "outputs": []
    },
    {
      "cell_type": "code",
      "source": [
        "# load our trained bounding box regressor from disk\n",
        "print(\"[INFO] loading object detector...\")\n",
        "model = load_model(MODEL_PATH)\n",
        "# loop over the images that we'll be testing using our bounding box\n",
        "# regression model\n",
        "for index in fn_index:\n",
        "  # load the input image (in Keras format) from disk and preprocess\n",
        "  # it, scaling the pixel intensities to the range [0, 1]\n",
        "  image = data1[index]\n",
        "  image2 = np.expand_dims(image, axis=0)\n",
        "  print(image2.shape)\n",
        "  preds = model.predict(image2)[0]\n",
        "  (startX, startY, endX, endY) = preds\n",
        "  image = image * 255\n",
        "  w, h = 224, 224\n",
        "  startX = int(startX * w)\n",
        "  startY = int(startY * h)\n",
        "  endX = int(endX * w)\n",
        "  endY = int(endY * h)\n",
        "  # draw the predicted bounding box on the image\n",
        "  cv2.rectangle(image, (startX, startY), (endX, endY),\t(0, 255, 0), 2)\n",
        "  # show the output image\n",
        "  cv2_imshow(image)\n",
        "  print(filenames1[index])\n",
        "  cv2.waitKey(0)"
      ],
      "metadata": {
        "id": "hdJsnYwObFEO"
      },
      "execution_count": null,
      "outputs": []
    },
    {
      "cell_type": "code",
      "source": [
        ""
      ],
      "metadata": {
        "id": "3ZKUDWcUb-jD"
      },
      "execution_count": null,
      "outputs": []
    }
  ]
}