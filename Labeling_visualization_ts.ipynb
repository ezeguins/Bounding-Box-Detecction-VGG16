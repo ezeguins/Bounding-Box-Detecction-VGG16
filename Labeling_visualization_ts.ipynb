{
  "nbformat": 4,
  "nbformat_minor": 0,
  "metadata": {
    "colab": {
      "name": "Labeling_visualization_ts.ipynb",
      "provenance": [],
      "collapsed_sections": [],
      "authorship_tag": "ABX9TyMG1+8GHvMbp6WJwMOMKoja",
      "include_colab_link": true
    },
    "kernelspec": {
      "name": "python3",
      "display_name": "Python 3"
    },
    "language_info": {
      "name": "python"
    }
  },
  "cells": [
    {
      "cell_type": "markdown",
      "metadata": {
        "id": "view-in-github",
        "colab_type": "text"
      },
      "source": [
        "<a href=\"https://colab.research.google.com/github/ezeguins/Bounding-Box-Detecction-VGG16/blob/main/Labeling_visualization_ts.ipynb\" target=\"_parent\"><img src=\"https://colab.research.google.com/assets/colab-badge.svg\" alt=\"Open In Colab\"/></a>"
      ]
    },
    {
      "cell_type": "markdown",
      "source": [
        "THIS NOTEBOOK IS USEFUL TO VISUALIZE THE BOUNDING BOX DATASET AND THE ANNOTATIONS (LABELING)  "
      ],
      "metadata": {
        "id": "TBuRqrVBlFx4"
      }
    },
    {
      "cell_type": "code",
      "execution_count": null,
      "metadata": {
        "colab": {
          "base_uri": "https://localhost:8080/"
        },
        "id": "oBya_ChgfM0k",
        "outputId": "631d8fa7-3e10-49f6-859b-c1687a455e14"
      },
      "outputs": [
        {
          "output_type": "stream",
          "name": "stdout",
          "text": [
            "Mounted at /content/gdrive\n"
          ]
        }
      ],
      "source": [
        "from google.colab import drive\n",
        "drive.mount('/content/gdrive')"
      ]
    },
    {
      "cell_type": "code",
      "source": [
        "import numpy as np\n",
        "import imutils\n",
        "import cv2\n",
        "import os\n",
        "from google.colab.patches import cv2_imshow"
      ],
      "metadata": {
        "id": "7hHjx3zUfycd"
      },
      "execution_count": null,
      "outputs": []
    },
    {
      "cell_type": "code",
      "source": [
        "# LOAD THE DATASET FILE SAVED IN GOOGLE DRIVE \n",
        "\n",
        "outfile = \"/content/gdrive/MyDrive/VGG16/dataset/datos.npz\"\n",
        "npzfile = np.load(outfile)\n",
        "data1 = npzfile['arr_0']\n",
        "targets1 = npzfile['arr_1']\n",
        "filenames1 = npzfile['arr_2']"
      ],
      "metadata": {
        "id": "c_iXphWvR_T0"
      },
      "execution_count": null,
      "outputs": []
    },
    {
      "cell_type": "code",
      "source": [
        "len(targets1)"
      ],
      "metadata": {
        "colab": {
          "base_uri": "https://localhost:8080/"
        },
        "id": "Em-XXCvefFjL",
        "outputId": "f6b61a7d-95e5-411f-b23c-c6c87d64b099"
      },
      "execution_count": null,
      "outputs": [
        {
          "output_type": "execute_result",
          "data": {
            "text/plain": [
              "857"
            ]
          },
          "metadata": {},
          "execution_count": 4
        }
      ]
    },
    {
      "cell_type": "code",
      "source": [
        "# loop over the rows\n",
        "inicio = 0\n",
        "fin = len(targets1)\n",
        "for idx, target in enumerate(targets1[inicio:fin]):\n",
        "\n",
        "  startX = float(target[0])\n",
        "  endX = float(target[2])\n",
        "  startY = float(target[1])\n",
        "  endY = float(target[3])\n",
        "  # derive the path to the input image, load the image (in OpenCV format), and grab its dimensions\n",
        "  # imagePath = os.path.sep.join([IMAGES_PATH, filenames1[idx]])\n",
        "  # imagePath = imagePath.replace(\"\\ufeff\",\"\")\n",
        "  #image = cv2.imread(imagePath)\n",
        "  #(h, w) = image.shape[:2] - no hace falta porque nuestras anotaciones ya están escaladas\n",
        "  # load the image and preprocess it\n",
        "  #image = load_img(imagePath, target_size=(224, 224))\n",
        "  #image = img_to_array(image)\n",
        "  image = data1[idx]*255\n",
        "  # update our list of data, targets, and filenames\n",
        "  # data.append(image)\n",
        "  # targets.append((startX, startY, endX, endY))\n",
        "  # filenames.append(filename)\n",
        "  w, h = 224, 224\n",
        "  startX = int(startX * w)\n",
        "  startY = int(startY * h)\n",
        "  endX = int(endX * w)\n",
        "  endY = int(endY * h)\n",
        "  # draw the predicted bounding box on the image\n",
        "  cv2.rectangle(image, (startX, startY), (endX, endY),\t(0, 255, 0), 2)\n",
        "  # show the output image\n",
        "  cv2_imshow(image)\n",
        "  cv2.waitKey(0)\n",
        "\n"
      ],
      "metadata": {
        "id": "n_63hdd-gXyt"
      },
      "execution_count": null,
      "outputs": []
    },
    {
      "cell_type": "code",
      "source": [
        "♥"
      ],
      "metadata": {
        "id": "jtFxl4o_icxG"
      },
      "execution_count": null,
      "outputs": []
    }
  ]
}